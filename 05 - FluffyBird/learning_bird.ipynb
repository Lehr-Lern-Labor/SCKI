{
 "cells": [
  {
   "cell_type": "code",
   "execution_count": null,
   "metadata": {
    "scrolled": true
   },
   "outputs": [],
   "source": [
    "import gym\n",
    "import copy\n",
    "import numpy as np\n",
    "import time as time\n",
    "import torch\n",
    "import torch.nn as nn\n",
    "from flappyBird.io import *\n",
    "import flappyBird.genetics as gen\n",
    "from tensorboardX import SummaryWriter\n",
    "import matplotlib.pyplot as plt\n",
    "import math\n",
    "import pygame\n",
    "from pygame.locals import *\n",
    "import warnings\n",
    "warnings.filterwarnings('ignore')"
   ]
  },
  {
   "cell_type": "markdown",
   "metadata": {},
   "source": [
    "# Das Spiel vorbereiten\n",
    "## Animationen individualisieren\n",
    "Lege hier die Animationen für dein Spiel fest. Die einzelnen Frames für den Spieler und den Hintergrund werden jeweils in Äbhängigkeit der angegebenen Zeit aneinander gereiht und so zu einer Animation. Die Farbe der Rohre wird als RGB-Wert angegeben.\n",
    "\n",
    "Um eigene Animationen zu erstellen, kannst du [Piskel](https://www.piskelapp.com/) verwenden. Achte auf die richtige Größe deiner Sprites: 34 x 24 Pixel (Spieler) und 288 x 512 Pixel (Hintergrund)."
   ]
  },
  {
   "cell_type": "code",
   "execution_count": null,
   "metadata": {},
   "outputs": [],
   "source": [
    "# Animation für Spieler\n",
    "setImgBird([\n",
    "    'sprites/sparrow.png',\n",
    "    'sprites/sparrow_flap.png'\n",
    "],40)"
   ]
  },
  {
   "cell_type": "code",
   "execution_count": null,
   "metadata": {},
   "outputs": [],
   "source": [
    "# Animation für Hintergrund\n",
    "setImgBg([\n",
    "    'sprites/background-day.png',\n",
    "    'sprites/background-night.png'\n",
    "],400)"
   ]
  },
  {
   "cell_type": "code",
   "execution_count": null,
   "metadata": {},
   "outputs": [],
   "source": [
    "# Farbe der Rohre\n",
    "setColorPipe(15,104,48)"
   ]
  },
  {
   "cell_type": "code",
   "execution_count": null,
   "metadata": {},
   "outputs": [],
   "source": [
    "# Abstand und Höhe der Rohre und Breite der Lücke festlegen\n",
    "Interval_distance = [250, 350]\n",
    "Interval_height = [100,300]\n",
    "Interval_gap = [120,130]"
   ]
  },
  {
   "cell_type": "markdown",
   "metadata": {},
   "source": [
    "## Feature extrahieren\n",
    "Entscheide, welche Informationen über das Spiel der KI zur Verfügung gestellt werden sollen.\n",
    "<details>\n",
    "    <summary><b>🗠 Verfügbare Feature</b></summary>\n",
    "    <img src=\"img/ingame.jpg\" align=\"left\" />\n",
    "</details>"
   ]
  },
  {
   "cell_type": "code",
   "execution_count": null,
   "metadata": {},
   "outputs": [],
   "source": [
    "def generateFeatures(state):\n",
    "    bird = state['bird']\n",
    "    pipes = state['pipes']\n",
    "    \n",
    "    posY = bird.Y\n",
    "    speedY = bird.speedY\n",
    "    posPipe = pipes[0].pos\n",
    "    pipeHeight = pipes[0].height\n",
    "    pipeGap = pipes[0].gap\n",
    "    \n",
    "    return posY, speedY, posPipe, pipeHeight, pipeGap"
   ]
  },
  {
   "cell_type": "markdown",
   "metadata": {
    "collapsed": true,
    "jupyter": {
     "outputs_hidden": true
    }
   },
   "source": [
    "# Die KI vorbereiten\n",
    "## Das Neuronale Netz initialisieren\n",
    "Initialisiere dein neuronales Netz. Überlege dir dazu, wie die Topologie deines Netzes aussehen soll und wie viele Inputs und Outputs du benötigst.\n",
    "\n",
    "Hast du einmal ein neuronales Netz erzeugt, kannst du es exportieren, um den Zustand zu speichern, und dann auch importieren, um den Zustand wieder zu laden. Achte darauf, dass du dabei keine Zustände unbeabsichtigt überschreibst und ersetze `Mein-Name` durch deinen Namen.\n",
    "\n",
    "<details>\n",
    "    <summary>Layer</summary>\n",
    "    \n",
    "    nn.Linear(X, Y), Input dim X, Output dim Y\n",
    "</details>\n",
    "<details>\n",
    "    <summary>Aktivierungsfunktionen</summary>\n",
    "    \n",
    "    nn.ReLU()\n",
    "    nn.Sigmoid()\n",
    "    nn.Softmax(dim=1))\n",
    "</details>\n",
    "<details>\n",
    "    <summary>Topologie</summary>\n",
    "    \n",
    "    nn.Sequential(Layer, Aktivierungsfunktion, Layer, Aktivierungsfunktion...., Layer)\n",
    "    \n",
    "    z.B. nn.Sequential(nn.Linear(5, 5),nn.Sigmoid(),nn.Linear(5, 1))\n",
    "</details>\n",
    "<details>\n",
    "    <summary>Weiterführende Links</summary>\n",
    "    <a href=\"https://pytorch.org/docs/stable/nn.html#linear-layers\">https://pytorch.org/docs/stable/nn.html#linear-layers</a><br>\n",
    "    <a href=\"https://pytorch.org/docs/stable/generated/torch.nn.Sigmoid.html?highlight=sigmoid#torch.nn.Sigmoid\">https://pytorch.org/docs/stable/generated/torch.nn.Sigmoid.html?highlight=sigmoid#torch.nn.Sigmoid</a>\n",
    "</details>"
   ]
  },
  {
   "cell_type": "code",
   "execution_count": null,
   "metadata": {},
   "outputs": [],
   "source": [
    "# Netz erzeugen\n",
    "net = nn.Sequential(nn.Linear(5, 5),nn.Sigmoid(),nn.Linear(5, 5),nn.Sigmoid(), nn.Linear(5, 1))\n",
    "\n",
    "# Gespeichertes Netz laden\n",
    "#net = torch.load('Mein-Name/net.pt')\n",
    "\n",
    "# (trainiertes) Netz inkl. Sprites speichern\n",
    "#export(net, \"Mein-Name\")"
   ]
  },
  {
   "cell_type": "code",
   "execution_count": null,
   "metadata": {},
   "outputs": [],
   "source": [
    "for name, param in net.named_parameters():\n",
    "    print(name, param)"
   ]
  },
  {
   "cell_type": "markdown",
   "metadata": {},
   "source": [
    "## Entscheidungen verarbeiten\n",
    "Lege fest, wie der Vogel auf eine Entscheidung reagieren soll, d.h. wie er mit der Ausgabe des neuronalen Netzes umgehen soll."
   ]
  },
  {
   "cell_type": "code",
   "execution_count": null,
   "metadata": {},
   "outputs": [],
   "source": [
    "# Du kannst die folgenden Befehle verwenden: bird.forceX, bird.forceY, bird.speedX, bird.speedY\n",
    "def birdAction(decission, bird):\n",
    "        bird.forceY = 50*decission[0]\n"
   ]
  },
  {
   "cell_type": "markdown",
   "metadata": {},
   "source": [
    "## Belohnung festlegen\n",
    "Lege fest, wie die Belohnungsstrategie aussehen soll.\n",
    "<details>\n",
    "    <summary><b>🗠 Reward</b></summary>\n",
    "    <img src=\"img/ingame_2.jpg\" align=\"left\" />\n",
    "</details>"
   ]
  },
  {
   "cell_type": "code",
   "execution_count": null,
   "metadata": {},
   "outputs": [],
   "source": [
    "def computeReward(state_old, state_new):\n",
    "    return 1"
   ]
  },
  {
   "cell_type": "markdown",
   "metadata": {},
   "source": [
    "## Die nächste Generation\n",
    "Lege fest, wie die Vögel mutiert werden sollen, um die nächste Generation zu bilden.\n",
    "<details>\n",
    "    <summary><b>🗠 Mutation</b></summary>\n",
    "    <img src=\"img/ingame_3.jpg\" align=\"left\" >\n",
    "</details>"
   ]
  },
  {
   "cell_type": "code",
   "execution_count": null,
   "metadata": {},
   "outputs": [],
   "source": [
    "# Anzahl der Vögel in der Population\n",
    "POPULATION_SIZE = 50\n",
    "\n",
    "# Anzahl der besten Vögel, aus denen dann mutiert wird\n",
    "PARENTS_COUNT = 10\n",
    "\n",
    "# Mutationsstärke\n",
    "NOISE_STD = 0.1     "
   ]
  },
  {
   "cell_type": "markdown",
   "metadata": {},
   "source": [
    "# Die KI trainieren\n",
    "Beginne nun mit dem Training. Mit `Score_Max` legst du fest, wann ein Trainingsvorgang spätestens beendet wird.\n",
    "\n",
    "Mit `print_weights` und `print_plot` kannst du steuern, wie die Ausgabe während des Trainingprozesses aussieht."
   ]
  },
  {
   "cell_type": "code",
   "execution_count": null,
   "metadata": {},
   "outputs": [],
   "source": [
    "Score_Max = 4000\n",
    "print_weights = False\n",
    "print_plot = True\n",
    "\n",
    "def plot_scores(data, save=False, filename=\"plot.png\"):\n",
    "    if print_plot:\n",
    "        fig, ax = plt.subplots()\n",
    "        ax.plot(data)\n",
    "    \n",
    "        ax.set(xlabel='Population', ylabel='Score', title='Score des besten Vogels der Population')\n",
    "        ax.grid()\n",
    "        if save:\n",
    "            fig.savefig(filename)\n",
    "            print(\"saved\",filename)\n",
    "        plt.show()\n"
   ]
  },
  {
   "cell_type": "code",
   "execution_count": null,
   "metadata": {
    "scrolled": true
   },
   "outputs": [],
   "source": [
    "fittestBirds = []\n",
    "\n",
    "env = gym.make(\"scienceCampBird-v1\")\n",
    "env.setPipeIntervals([Interval_distance, Interval_height, Interval_gap])\n",
    "population = gen.Population(POPULATION_SIZE, 5, 2, computeReward, net)\n",
    "env.setAction(birdAction)\n",
    "  #  print(len(population.nets))\n",
    "population.evaluate_on_env(env, generateFeatures, Score_Max)\n",
    "ecount = 0 \n",
    "\n",
    "if not(print_plot or print_weights):\n",
    "    print('|{:>12}|{:^25}|'.format('','Score'))\n",
    "    print('|{:^12}|{:^12}|{:^12}|'.format('Population','Training','Spiel'))\n",
    "    print('----------------------------------------')\n",
    "    \n",
    "while True:\n",
    "    population = gen.mutate_population(population, PARENTS_COUNT, NOISE_STD)\n",
    "    population.evaluate_on_env(env, generateFeatures, Score_Max)\n",
    "    fittestBirds.append(population.population[0])\n",
    "    ecount +=1\n",
    "    if(ecount % 5 == 0):\n",
    "        net = population.population[0][1]\n",
    "        score_e = population.population[0][0]\n",
    "        score_p = env.playWithNet(net, generateFeatures, Score_Max, computeReward, ecount)\n",
    "        if print_weights or print_plot:\n",
    "            print('--- Population ', ecount, '------------------------------------------------------------')\n",
    "            print('Score Training: ', score_e, ' Score Spiel: ', score_p)\n",
    "        else:\n",
    "            print('|{:>11} |{:>11} |{:>11} |'.format(ecount, score_e, score_p))\n",
    "        if print_weights:\n",
    "            for name, param in net.named_parameters():\n",
    "                print(name, param)\n",
    "        scores = [score[0] for score in fittestBirds]\n",
    "        plot_scores(scores)\n"
   ]
  },
  {
   "cell_type": "code",
   "execution_count": null,
   "metadata": {},
   "outputs": [],
   "source": [
    "# Lernkurve zeichnen und speichern:\n",
    "# plot_scores(data, save=False, filename=\"plot.png\")\n",
    "plot_scores(scores,True)"
   ]
  },
  {
   "cell_type": "code",
   "execution_count": null,
   "metadata": {},
   "outputs": [],
   "source": [
    "# Parameter der besten Vögel der letzten Population anzeigen\n",
    "i = 0\n",
    "for bird in fittestBirds:\n",
    "        i +=1\n",
    "        net = bird[1]\n",
    "        score_p = bird[0]\n",
    "        print('--- Vogel', ecount, '-', i,'------------------------------------------------------------')\n",
    "        print('Score Training: ', score_e, ' Score Spiel: ', score_p)\n",
    "        for name, param in net.named_parameters():\n",
    "            print(name, param)\n",
    "        print()"
   ]
  },
  {
   "cell_type": "code",
   "execution_count": null,
   "metadata": {},
   "outputs": [],
   "source": [
    "# ohne Training weiterspielen\n",
    "run(\n",
    "    net,\n",
    "    Interval_distance,\n",
    "    Interval_height,\n",
    "    Interval_gap,\n",
    "    computeReward,\n",
    "    birdAction,\n",
    "    generateFeatures,\n",
    "    1000000\n",
    ")"
   ]
  },
  {
   "cell_type": "code",
   "execution_count": null,
   "metadata": {},
   "outputs": [],
   "source": [
    "# Netz exportieren\n",
    "#export(net, 'Mein-Name')"
   ]
  }
 ],
 "metadata": {
  "kernelspec": {
   "display_name": "Python 3 (ipykernel)",
   "language": "python",
   "name": "python3"
  },
  "language_info": {
   "codemirror_mode": {
    "name": "ipython",
    "version": 3
   },
   "file_extension": ".py",
   "mimetype": "text/x-python",
   "name": "python",
   "nbconvert_exporter": "python",
   "pygments_lexer": "ipython3",
   "version": "3.12.4"
  }
 },
 "nbformat": 4,
 "nbformat_minor": 4
}
