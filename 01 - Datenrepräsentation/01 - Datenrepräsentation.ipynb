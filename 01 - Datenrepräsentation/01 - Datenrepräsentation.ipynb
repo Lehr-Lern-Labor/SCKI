{
 "cells": [
  {
   "cell_type": "markdown",
   "metadata": {},
   "source": [
    "# Repräsentation von Informationen im Computer\n",
    "\n",
    "Nachdem du einige Grundlagen der Pythonprogrammierung kennen gelernt hast, widmen wir uns in diesem Abschnitt der Repräsentation von Informationen im Computer, die für die Anwendungen künstlicher Intelligenz besonders wichtig ist. \n",
    "\n",
    "Um es möglichst einfach zu halten, betrachten wir zwei Arten von Gegenständen: die Eier von Adlern und die Eier von Enten. \n",
    "\n",
    "&nbsp;\n",
    "\n",
    "<figure>\n",
    "  <img src=\"resources/img/voegel_und_eier.png\" alt=\"Vögel und Eier\" style=\"width:45%\">\n",
    "  <figcaption></figcaption>\n",
    "</figure> \n",
    "\n",
    "&nbsp;\n",
    "\n",
    "Diese Objekte unterscheiden sich z.B. in ihrer Helligkeit und Höhe voneinander. Die Eier der Adler sind relativ hell und klein. Demgegenüber sind die Eier mancher Enten besonders hoch und relativ dunkel. Messen wir die Helligkeit und die Höhe eines Eis eines Adlers und einer Ente, so könnte z.B. der zweidimensionale Punkt $p_1=(0.8, 2)$ ein Ei eines Adlers und $p_2=(0.3, 8)$ ein Ei einer Ente beschreiben. Dabei steht der erste Wert für die Helligkeit und der zweite für die Höhe des Eis. Demzufolge können wir jedes Ei als Punkt in einem Koordinatensystem darstellen.  \n",
    "\n",
    "&nbsp;\n",
    "\n",
    "<figure>\n",
    "  <img src=\"resources/img/koordinatensystem_eier.png\" alt=\"Koordinatensystem mit Eiern\" style=\"width:45%\">\n",
    "  <figcaption></figcaption>\n",
    "</figure> \n",
    "\n",
    "&nbsp;\n",
    "\n",
    "Für Computer sind also derartige Informationen nichts weiter als zwei-, drei- oder n-dimensionale Datenpunkte, denn ein Computer hat im Gegensatz zum Menschen kein intuitives Verständnis von Formen, Farben oder sonstigen Sinneswahrnehmungen. \n",
    "\n",
    "## Darstellung von Datenpunkten in Python\n",
    "\n",
    "Um Datenpunkte in Python darzustellen, gibt es unterschiedliche Bibliotheken, wie z.B. <i>NumPy</i> oder <i>PyTorch</i>. Für den jetzigen Anwendungsfall reicht es jedoch aus, einen Datenpunkt durch ein Zahlentupel zu beschreiben. Möchtest du diese Datenpunkte in einem zweidimensionalen Koordinatensystem abbilden, bietet dir die Bibliothek <i>Matplotlib</i> die passende Funktion dazu."
   ]
  },
  {
   "cell_type": "code",
   "execution_count": null,
   "metadata": {},
   "outputs": [],
   "source": [
    "import warnings\n",
    "warnings.filterwarnings('ignore')\n",
    "import matplotlib.pyplot as plt\n",
    "\n",
    "# drei zweidimensionale Datenpunkte\n",
    "d1 = (1, 2)\n",
    "d2 = (-1, 1)\n",
    "d3 = (0, 2)\n",
    "\n",
    "datenpunkte = [d1, d2, d3]\n",
    "\n",
    "# Um diese Datenpunkte in einem Koordinatensystem darzustellen,\n",
    "# musst du die x- und y-Werte voneinander trennen.\n",
    "# Wie du in der Einführungseinheit gelernt hast, hast du dafür zwei Möglichkeiten.\n",
    "# Entweder du verwendest eine for-Schleife und fügst das erste bzw. zweite Element\n",
    "# in die entsprechende Liste hinzu....\n",
    "x_werte = []\n",
    "y_werte = []\n",
    "for datenpunkt in datenpunkte:\n",
    "    x_werte.append(datenpunkt[0])\n",
    "    y_werte.append(datenpunkt[1])\n",
    "    \n",
    "print(\"for-Schleife:\")    \n",
    "print(\"x-werte:\", x_werte)\n",
    "print(\"y-werte:\", y_werte)\n",
    "\n",
    "# ... oder du verwendest list comprehension,\n",
    "# um die Listen zu erstellen.\n",
    "x_werte = [datenpunkt[0] for datenpunkt in datenpunkte]\n",
    "y_werte = [datenpunkt[1] for datenpunkt in datenpunkte]\n",
    "\n",
    "print(\"\\nlist comprehension:\")\n",
    "print(\"x-werte:\", x_werte)\n",
    "print(\"y-werte:\", y_werte)\n",
    "\n",
    "# Nun kannst du dir die Punkte mit folgender Anweisung plotten lassen.\n",
    "plt.scatter(x_werte, y_werte)\n",
    "\n",
    "# Hast du einen Punkt vergessen, kannst du ihn nachträglich in das \n",
    "# Koordinatensystem eintragen. Die Farbe der Punkte kannst du mit \n",
    "# dem Parameter 'color' festlegen.\n",
    "plt.scatter([1], [1], color='red')"
   ]
  },
  {
   "cell_type": "markdown",
   "metadata": {},
   "source": [
    "<img style=\"float: left;\" src=\"resources/img/laptop_icon.png\" width=50 height=50 /> <br><br>\n",
    "\n",
    "<i>Plotte die Punkte des Graphen der Funktion $x^2$ im Koordinatensystem, deren x-Werte im Intervall von $-4$ bis $4$ liegen und jeweils den Abstand $0.5$ voneinander haben.</i>"
   ]
  },
  {
   "cell_type": "code",
   "execution_count": null,
   "metadata": {},
   "outputs": [],
   "source": [
    "# Füge hier deinen Code ein."
   ]
  },
  {
   "cell_type": "markdown",
   "metadata": {},
   "source": [
    "## k-Nearest-Neighbors (kNN)\n",
    "\n",
    "Im Folgenden schauen wir uns unseren ersten KI-Algorithmus an. Der k-Nearest-Neighbor-Algorithmus ist ein einfacher Klassifikationsalgorithmus. Im ersten Schritt wird dem Computer „mitgeteilt“, bei welchen Daten es sich um Datenpunkte der Klasse 0, 1, 2, etc. handelt; in unserem Fall welche Datenpunkte die Eier von Adlern und welche Datenpunkte die Eier von Enten repräsentieren. Im zweiten Schritt wird <i>k</i> festgelegt. Wir wählen $k=3$. Wenn wir nun einen neuen Datenpunkt klassifizieren müssen, dessen Klasse uns nicht bekannt ist, bestimmen wir die $k=3$ nächsten Nachbarn dieses Datenpunkts. Hat dieser Datenpunkt mehr Nachbarn, die als Eier von Enten klassifiziert sind, wird auch dieser Datenpunkt als ein Ei einer Ente klassifiziert. Gibt es mehr Eier von Adlern als Nachbarn, wird der neue Datenpunkt als Ei eines Adlers klassiziert. Die Herausforderung des k-Nearest-Neighbours-Algorithmus besteht u.a. darin, <i>k</i> optimal zu wählen.\n",
    "\n",
    "&nbsp;\n",
    "\n",
    "<figure>\n",
    "  <img src=\"resources/img/koordinatensystem_eier_knn.png\" alt=\"Koordinatensystem mit Eiern\" style=\"width:45%\">\n",
    "  <figcaption></figcaption>\n",
    "</figure> \n",
    "\n",
    "&nbsp;\n",
    "\n",
    "<img style=\"float: left;\" src=\"resources/img/laptop_icon.png\" width=50 height=50 /> <br><br>\n",
    "\n",
    "<i> Jetzt betrachten wir Mini-Enten, deren Eier etwas kleiner und heller sind als die der bisherigen Enten. Außerdem haben wir ein paar unbekannte Eier (rot markierte Datenbpunkte), die entweder von den Mini-Enten oder den Adlern stammen. Ordne die unbekannten Eier mit Hilfe des kNN-Algorithmus entweder der Klasse der Eier der Adler oder der Eier der Ente zu. Führe dazu das Feld aus, um alle Datenpunkte zu visualisieren. Implementiere anschließend den kNN-Algorithmus und führe die implementierte Funktion auf allen Datenpunkten aus. Ändert sich die Klassifikation für unterschiedliche <i>k</i>?</i>"
   ]
  },
  {
   "cell_type": "code",
   "execution_count": null,
   "metadata": {},
   "outputs": [],
   "source": [
    "hoehe_eier_adler = [1.7, 1.4, 1.75, 1.6, 1.8, 1.6, 1.4, 1.5, 2.0, 2.1]\n",
    "helligkeit_eier_adler = [0.85, 0.9, 0.73, 0.66, 0.63, 0.57, 0.63, 0.65, 0.71, 0.75]\n",
    "\n",
    "hoehe_eier_mini_ente = [2.4, 2.8, 2.35, 2.2, 2.9, 2.5, 2.2, 2.5, 3, 2.7]\n",
    "helligkeit_eier_mini_ente = [0.55, 0.6, 0.63, 0.7, 0.63, 0.50, 0.33, 0.45, 0.51, 0.55]\n",
    "\n",
    "hoehe_eier_unbekannt = [2.0, 2.2, 2.5, 2.9]\n",
    "helligkeit_eier_unbekannt = [0.5, 0.75, 0.7, 0.65]\n",
    "\n",
    "farbe_eier_adler = '#ec90cc'\n",
    "farbe_eier_ente = '#4f7087'\n",
    "\n",
    "\n",
    "\n",
    "plt.scatter(hoehe_eier_adler, helligkeit_eier_adler, color=farbe_eier_adler)\n",
    "plt.scatter(hoehe_eier_mini_ente, helligkeit_eier_ente, color=farbe_eier_ente)\n",
    "plt.scatter(hoehe_eier_unbekannt, helligkeit_eier_unbekannt, color='red')\n",
    "\n",
    "# Füge hier deinen Code ein.\n",
    "\n",
    "'''\n",
    "@param datenpunkte1: Alle Datenpunkte der Klasse 0\n",
    "@param datenpunkte2: Alle Datenpunkte der Klasse 1\n",
    "@param unbekannter_datenpunkt: Datenpunkt, der klassifiziert werden muss\n",
    "@param k: k gibt an, wie viele Nachbarn der kNN-Algorithmus bei seiner Entscheidung berücksichtigt\n",
    "@return: 0, wenn Ei eines Adlers oder 1, wenn Ei einer Ente\n",
    "'''\n",
    "def knn(datenpunkte1, datenpunkte2, unbekannter_datenpunkt, k):\n",
    "    pass"
   ]
  }
 ],
 "metadata": {
  "@webio": {
   "lastCommId": null,
   "lastKernelId": null
  },
  "kernelspec": {
   "display_name": "Python 3",
   "language": "python",
   "name": "python3"
  },
  "language_info": {
   "codemirror_mode": {
    "name": "ipython",
    "version": 3
   },
   "file_extension": ".py",
   "mimetype": "text/x-python",
   "name": "python",
   "nbconvert_exporter": "python",
   "pygments_lexer": "ipython3",
   "version": "3.6.12"
  }
 },
 "nbformat": 4,
 "nbformat_minor": 2
}
