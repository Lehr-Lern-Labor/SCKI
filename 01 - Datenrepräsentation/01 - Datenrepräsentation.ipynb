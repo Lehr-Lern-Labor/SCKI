{
 "cells": [
  {
   "cell_type": "markdown",
   "metadata": {},
   "source": [
    "# Repräsentationen von Informationen im Computer\n",
    "\n",
    "Nachdem du einige Grundlagen der Pythonprogrammierung kennen gelernt hast, widmen wir uns in diesem Abschnitt der Repräsentation von Informationen im Computer, die für die Anwendungen künstlicher Intelligenz besonders wichtig sind. \n",
    "\n",
    "Um es möglichst einfach zu halten, betrachten wir zwei Arten von Gegenständen: die Eier von Blaumeisen und die Eier von Greifvögeln. \n",
    "\n",
    "&nbsp;\n",
    "\n",
    "\n",
    " <figure>\n",
    "  <img src=\"resources/img/voegel_und_eier.png\" alt=\"Vögel und Eier\" style=\"width:45%\">\n",
    "  <figcaption></figcaption>\n",
    "</figure> \n",
    "\n",
    "&nbsp;\n",
    "\n",
    "Diese Objekte unterscheiden sich z.B. in ihrer Helligkeit und Höhe voneinander. Die Eier der Blaumeisen sind relativ hell und klein. Demgegenüber sind die Eier mancher Greifvögel besonders hoch und relativ dunkel. Messen wir die Helligkeit und die Höhe eines Eis einer Blaumeise und eines Greifvogels, so könnte z.B. der zweidimensionale Punkt $p_1=(0.8, 2)$ ein Ei einer Blaumeise und $p_2=(0.3, 8)$ ein Ei eines Greifvogels beschreiben. Dabei steht der erste Wert für die Helligkeit und der zweite für die Höhe des Eis. Demzufolge können wir jedes Ei als Punkt in einem Koordinatensystem darstellen.  \n",
    "\n",
    "&nbsp;\n",
    "\n",
    "\n",
    " <figure>\n",
    "  <img src=\"resources/img/koordinatensystem_eier.png\" alt=\"Koordinatensystem mit Eiern\" style=\"width:45%\">\n",
    "  <figcaption></figcaption>\n",
    "</figure> \n",
    "\n",
    "&nbsp;\n",
    "\n",
    "Für Computer sind also derartige Informationen nichts weiter als zwei-, drei- oder n-dimensionale Datenpunkte, denn ein Computer kann im Gegensatz zu Menschen nicht auf dem direkten Weg Formen, Farben oder sonstige Sinnesdaten wahrnehmen. \n",
    "\n",
    "## Darstellung von Datenpunkten in Python\n",
    "\n",
    "Um Datenpunkte in Python darzustellen, gibt es unterschiedliche Bibliotheken, wie z.B. <i>NumPy</i> oder <i>PyTorch</i>. Für den jetzigen Anwendungsfall reicht es jedoch aus, einen Datenpunkt durch ein Zahlentupel zu beschreiben. Möchtest du diese Datenpunkte in einem zweidimensionalen Koordinatensystem abbilden, bietet dir die Bibliothek <i>Matplotlib</i> die passende Funktion dazu."
   ]
  },
  {
   "cell_type": "code",
   "execution_count": 2,
   "metadata": {},
   "outputs": [
    {
     "name": "stdout",
     "output_type": "stream",
     "text": [
      "for-Schleife:\n",
      "x-werte: [1, -1, 0]\n",
      "y-werte: [2, 1, 2]\n",
      "\n",
      "list comprehension:\n",
      "x-werte: [1, -1, 0]\n",
      "y-werte: [2, 1, 2]\n"
     ]
    },
    {
     "data": {
      "text/plain": [
       "<matplotlib.collections.PathCollection at 0x7fd3989e1908>"
      ]
     },
     "execution_count": 2,
     "metadata": {},
     "output_type": "execute_result"
    },
    {
     "data": {
      "image/png": "[encoded data removed]",
      "text/plain": [
       "<Figure size 432x288 with 1 Axes>"
      ]
     },
     "metadata": {
      "needs_background": "light"
     },
     "output_type": "display_data"
    }
   ],
   "source": [
    "import warnings\n",
    "warnings.filterwarnings('ignore')\n",
    "import matplotlib.pyplot as plt\n",
    "\n",
    "# drei zweidimensionale Datenpunkte\n",
    "d1 = (1, 2)\n",
    "d2 = (-1, 1)\n",
    "d3 = (0, 2)\n",
    "\n",
    "datenpunkte = [d1, d2, d3]\n",
    "\n",
    "# Um diese Datenpunkte in einem Koordinatensystem darzustellen,\n",
    "# musst du die x- und y-Werte voneinander trennen.\n",
    "# Wie du in der Einführungseinheit gelernt hast, hast du dafür zwei Möglichkeiten.\n",
    "# Entweder du verwendest eine for-Schleife und fügst das erste bzw. zweite Element\n",
    "# in die entsprechende Liste hinzu.\n",
    "x_werte = []\n",
    "y_werte = []\n",
    "for datenpunkt in datenpunkte:\n",
    "    x_werte.append(datenpunkt[0])\n",
    "    y_werte.append(datenpunkt[1])\n",
    "    \n",
    "print(\"for-Schleife:\")    \n",
    "print(\"x-werte:\", x_werte)\n",
    "print(\"y-werte:\", y_werte)\n",
    "\n",
    "# Oder du verwendest list comprehension,\n",
    "# um die Listen zu erstellen.\n",
    "x_werte = [datenpunkt[0] for datenpunkt in datenpunkte]\n",
    "y_werte = [datenpunkt[1] for datenpunkt in datenpunkte]\n",
    "\n",
    "print(\"\\nlist comprehension:\")\n",
    "print(\"x-werte:\", x_werte)\n",
    "print(\"y-werte:\", y_werte)\n",
    "\n",
    "# Nun kannst du dir die Punkte mit folgender Anweisung plotten lassen.\n",
    "plt.scatter(x_werte, y_werte)\n",
    "\n",
    "# Hast du einen Punkt vergessen, kannst du ihn nachträglich in das \n",
    "# Koordinatensystem eintragen. Die Farbe der Punkte kannst du mit \n",
    "# dem Parameter 'color' festlegen.\n",
    "plt.scatter([1], [1], color='red')"
   ]
  },
  {
   "cell_type": "markdown",
   "metadata": {},
   "source": [
    "<img style=\"float: left;\" src=\"resources/img/laptop_icon.png\" width=50 height=50 /> <br><br>\n",
    "\n",
    "<i>Plotte bestimmte Punkte des Graphen der Funktion $x^2$ im Koordinatensystem im Intervall von $-4$ bis $4$. Die x-Werte der geplotteten Punkte sollen dabei zu ihrem nächsten Nachbarn den Abstand $0.5$ haben.</i>"
   ]
  },
  {
   "cell_type": "code",
   "execution_count": null,
   "metadata": {},
   "outputs": [],
   "source": [
    "# Füge hier deinen Code ein."
   ]
  },
  {
   "cell_type": "markdown",
   "metadata": {},
   "source": [
    "## k-Nearest-Neighbors (kNN)\n",
    "\n",
    "Im Folgenden schauen wir uns unseren ersten KI-Algorithmus an. Der k-Nearest-Neighbor-Algorithmus ist ein einfacher Klassifikationsalgorithmus. Im ersten Schritt wird dem Computer „mitgeteilt“, bei welchen Daten es sich um Datenpunkte der Klasse 0, 1, 2, etc. handelt; in unserem Fall welche Datenpunkte die Eier der Blaumeise und welche Datenpunkte die Eier von Greifvögeln repräsentieren. Im zweiten Schritt wird <i>k</i> festgelegt. Wir wählen $k=3$. Wenn wir nun einen neuen Datenpunkt klassifizieren müssen, dessen Klasse uns nicht bekannt ist, bestimmen wir die $k=3$ nächsten Nachbarn dieses Datenpunkts. Hat dieser Datenpunkt mehr Nachbarn, die als Eier der Blaumeise klassifiziert sind, wird auch dieser Datenpunkt als ein Ei der Blaumeise klassifiziert. Gibt es mehr Eier der Greifvögel als Nachbarn, wird der neue Datenpunkt als Ei eines Greifvogels klassiziert. Die Herausforderung des k-Nearest-Neighbours-Algorithmus besteht u.a. darin, <i>k</i> optimal zu wählen.\n",
    "\n",
    "&nbsp;\n",
    "\n",
    "\n",
    " <figure>\n",
    "  <img src=\"resources/img/koordinatensystem_eier_knn.png\" alt=\"Koordinatensystem mit Eiern\" style=\"width:45%\">\n",
    "  <figcaption></figcaption>\n",
    "</figure> \n",
    "\n",
    "&nbsp;\n",
    "\n",
    "<img style=\"float: left;\" src=\"resources/img/laptop_icon.png\" width=50 height=50 /> <br><br>\n",
    "\n",
    "<i>Um die Klassifikation der unbekannten Eier bisschen spannender zu gestalten, nehmen wir an, dass die Eier der Greifvögel geschrupft und etwas heller geworden sind. In dieser Aufgabe musst du die rot markierten Datenpunkte mit Hilfe des kNN-Algorithmus entweder der Klasse der Eier der Blaumeise oder der Eier der Greifvögel zuordnen. Führe dazu das Feld aus, um alle Datenpunkte zu visualisieren. Implementiere anschließend den kNN-Algorithmus und führe die implementierte Funktion auf allen Datenpunkten aus. Ändert sich die Klassifikation für unterschiedliche <i>k</i>?</i>"
   ]
  },
  {
   "cell_type": "code",
   "execution_count": 3,
   "metadata": {},
   "outputs": [
    {
     "ename": "NameError",
     "evalue": "name 'hoehe_eier_blaumeise' is not defined",
     "output_type": "error",
     "traceback": [
      "\u001b[0;31m---------------------------------------------------------------------------\u001b[0m",
      "\u001b[0;31mNameError\u001b[0m                                 Traceback (most recent call last)",
      "\u001b[0;32m<ipython-input-3-53f694d9dbaf>\u001b[0m in \u001b[0;36m<module>\u001b[0;34m\u001b[0m\n\u001b[1;32m      5\u001b[0m \u001b[0mhelligkeit_eier_unbekannt\u001b[0m \u001b[0;34m=\u001b[0m \u001b[0;34m[\u001b[0m\u001b[0;36m0.5\u001b[0m\u001b[0;34m,\u001b[0m \u001b[0;36m0.75\u001b[0m\u001b[0;34m,\u001b[0m \u001b[0;36m0.7\u001b[0m\u001b[0;34m,\u001b[0m \u001b[0;36m0.65\u001b[0m\u001b[0;34m]\u001b[0m\u001b[0;34m\u001b[0m\u001b[0;34m\u001b[0m\u001b[0m\n\u001b[1;32m      6\u001b[0m \u001b[0;34m\u001b[0m\u001b[0m\n\u001b[0;32m----> 7\u001b[0;31m \u001b[0mplt\u001b[0m\u001b[0;34m.\u001b[0m\u001b[0mscatter\u001b[0m\u001b[0;34m(\u001b[0m\u001b[0mhoehe_eier_blaumeise\u001b[0m\u001b[0;34m,\u001b[0m \u001b[0mhelligkeit_eier_blaumeise\u001b[0m\u001b[0;34m,\u001b[0m \u001b[0mcolor\u001b[0m\u001b[0;34m=\u001b[0m\u001b[0mfarbe_eier_blaumeise\u001b[0m\u001b[0;34m)\u001b[0m\u001b[0;34m\u001b[0m\u001b[0;34m\u001b[0m\u001b[0m\n\u001b[0m\u001b[1;32m      8\u001b[0m \u001b[0mplt\u001b[0m\u001b[0;34m.\u001b[0m\u001b[0mscatter\u001b[0m\u001b[0;34m(\u001b[0m\u001b[0mhoehe_eier_mini_greifvogel\u001b[0m\u001b[0;34m,\u001b[0m \u001b[0mhelligkeit_eier_greifvogel\u001b[0m\u001b[0;34m,\u001b[0m \u001b[0mcolor\u001b[0m\u001b[0;34m=\u001b[0m\u001b[0mfarbe_eier_greifvogel\u001b[0m\u001b[0;34m)\u001b[0m\u001b[0;34m\u001b[0m\u001b[0;34m\u001b[0m\u001b[0m\n\u001b[1;32m      9\u001b[0m \u001b[0mplt\u001b[0m\u001b[0;34m.\u001b[0m\u001b[0mscatter\u001b[0m\u001b[0;34m(\u001b[0m\u001b[0mhoehe_eier_unbekannt\u001b[0m\u001b[0;34m,\u001b[0m \u001b[0mhelligkeit_eier_unbekannt\u001b[0m\u001b[0;34m,\u001b[0m \u001b[0mcolor\u001b[0m\u001b[0;34m=\u001b[0m\u001b[0;34m'red'\u001b[0m\u001b[0;34m)\u001b[0m\u001b[0;34m\u001b[0m\u001b[0;34m\u001b[0m\u001b[0m\n",
      "\u001b[0;31mNameError\u001b[0m: name 'hoehe_eier_blaumeise' is not defined"
     ]
    }
   ],
   "source": [
    "hoehe_eier_mini_greifvogel = [2.4, 2.8, 2.15, 2.2, 2.9, 2.5, 2.2, 2.5, 3, 2.7]\n",
    "helligkeit_eier_greifvogel = [0.55, 0.6, 0.63, 0.7, 0.63, 0.50, 0.33, 0.45, 0.51, 0.55]\n",
    "\n",
    "hoehe_eier_unbekannt = [2.0, 2.2, 2.5, 2.9]\n",
    "helligkeit_eier_unbekannt = [0.5, 0.75, 0.7, 0.65]\n",
    "\n",
    "plt.scatter(hoehe_eier_blaumeise, helligkeit_eier_blaumeise, color=farbe_eier_blaumeise)\n",
    "plt.scatter(hoehe_eier_mini_greifvogel, helligkeit_eier_greifvogel, color=farbe_eier_greifvogel)\n",
    "plt.scatter(hoehe_eier_unbekannt, helligkeit_eier_unbekannt, color='red')\n",
    "\n",
    "# Füge hier deinen Code ein.\n",
    "\n",
    "'''\n",
    "@param datenpunkte1: Alle Datenpunkte der Klasse 0\n",
    "@param datenpunkte2: Alle Datenpunkte der Klasse 1\n",
    "@param unbekannter_datenpunkt: Datenpunkt, der klassifiziert werden muss\n",
    "@param k: k gibt an, wie viele Nachbarn der kNN-Algorithmus bei seiner Entscheidung berücksichtigt\n",
    "@return: 0, wenn Ei der Blaumeise oder 1, wenn Ei eines Greifvogels\n",
    "'''\n",
    "def knn(datenpunkte1, datenpunkte2, unbekannter_datenpunkt, k):\n",
    "    pass"
   ]
  }
 ],
 "metadata": {
  "@webio": {
   "lastCommId": null,
   "lastKernelId": null
  },
  "kernelspec": {
   "display_name": "Python 3 (ipykernel)",
   "language": "python",
   "name": "python3"
  },
  "language_info": {
   "codemirror_mode": {
    "name": "ipython",
    "version": 3
   },
   "file_extension": ".py",
   "mimetype": "text/x-python",
   "name": "python",
   "nbconvert_exporter": "python",
   "pygments_lexer": "ipython3",
   "version": "3.10.9"
  }
 },
 "nbformat": 4,
 "nbformat_minor": 2
}
