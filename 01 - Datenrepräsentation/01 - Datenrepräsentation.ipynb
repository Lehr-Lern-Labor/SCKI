{
 "cells": [
  {
   "cell_type": "markdown",
   "metadata": {},
   "source": [
    "# Repräsentationen von Informationen im Computer\n",
    "\n",
    "Nachdem du einige Grundlagen der Pythonprogrammierung kennen gelernt hast, widmen wir uns in diesem Abschnitt der Repräsentation von Informationen im Computer, die für die Anwendungen künstlicher Intelligenz besonders wichtig sind. \n",
    "\n",
    "Um es möglichst einfach zu halten, betrachten wir zwei Arten von Gegenständen: die Eier von Blaumeisen und die Eier von Greifvögeln. \n",
    "\n",
    "&nbsp;\n",
    "\n",
    "\n",
    " <figure>\n",
    "  <img src=\"resources/img/voegel_und_eier.png\" alt=\"Vögel und Eier\" style=\"width:45%\">\n",
    "  <figcaption></figcaption>\n",
    "</figure> \n",
    "\n",
    "&nbsp;\n",
    "\n",
    "Diese Objekte unterscheiden sich z.B. in ihrer Helligkeit und Höhe voneinander. Die Eier der Blaumeisen sind relativ hell und klein. Demgegenüber sind die Eier mancher Greifvögel besonders hoch und relativ dunkel. Messen wir die Helligkeit und die Höhe eines Eis einer Blaumeise und eines Greifvogels, so könnte z.B. der zweidimensionale Punkt $p_1=[0.8, 2]$ ein Ei einer Blaumeise und $p_2=[0.3, 8]$ ein Ei eines Greifvogels beschreiben. Dabei steht der erste Wert für die Helligkeit und der zweite für die Höhe des Eis. Demzufolge können wir jedes Ei als Punkt in einem Koordinatensystem darstellen.  \n",
    "\n",
    "&nbsp;\n",
    "\n",
    "\n",
    " <figure>\n",
    "  <img src=\"resources/img/koordinatensystem_eier.png\" alt=\"Koordinatensystem mit Eiern\" style=\"width:45%\">\n",
    "  <figcaption></figcaption>\n",
    "</figure> \n",
    "\n",
    "&nbsp;\n",
    "\n",
    "Für Computer sind also derartige Informationen nichts weiter als zwei-, drei- oder n-dimensionale Datenpunkte, denn ein Computer kann im Gegensatz zu Menschen nicht auf dem direkten Weg Formen, Farben oder sonstige Sinnesdaten wahrnehmen. \n",
    "\n",
    "## Darstellung von Datenpunkten in Python\n",
    "\n",
    "Um Datenpunkte in Python darzustellen, gibt es unterschiedliche Bibliotheken, wie z.B. <i>NumPy</i> oder <i>PyTorch</i>. Für den jetzigen Anwendungsfall reicht es jedoch aus, einen Datenpunkt durch ein Zahlentupel zu beschreiben. Möchtest du diese Datenpunkte in einem zweidimensionalen Koordinatensystem abbilden, bietet dir die Bibliothek <i>Matplotlib</i> die passende Funktion dazu."
   ]
  },
  {
   "cell_type": "code",
   "execution_count": 14,
   "metadata": {},
   "outputs": [
    {
     "name": "stdout",
     "output_type": "stream",
     "text": [
      "for-Schleife:\n",
      "x-werte: [1, -1, 0]\n",
      "y-werte: [2, 1, 2]\n",
      "\n",
      "list comprehension:\n",
      "x-werte: [1, -1, 0]\n",
      "y-werte: [2, 1, 2]\n"
     ]
    },
    {
     "data": {
      "text/plain": [
       "<matplotlib.collections.PathCollection at 0x7f6a7d493eb8>"
      ]
     },
     "execution_count": 14,
     "metadata": {},
     "output_type": "execute_result"
    },
    {
     "data": {
      "image/png": "[encoded data removed]",
      "text/plain": [
       "<Figure size 432x288 with 1 Axes>"
      ]
     },
     "metadata": {
      "needs_background": "light"
     },
     "output_type": "display_data"
    }
   ],
   "source": [
    "import matplotlib.pyplot as plt\n",
    "\n",
    "# drei zweidimensionale Datenpunkte\n",
    "d1 = (1, 2)\n",
    "d2 = (-1, 1)\n",
    "d3 = (0, 2)\n",
    "\n",
    "datenpunkte = [d1, d2, d3]\n",
    "\n",
    "# Um diese Datenpunkte in einem Koordinatensystem darzustellen,\n",
    "# musst du die x- und y-Werte voneinander trennen.\n",
    "# Dafür hast du zwei Möglichkeiten.\n",
    "\n",
    "# Entweder du verwendest eine for-Schleife, um durch die Liste\n",
    "# der Datenpunkt zu iterieren und hängst an die Liste der \n",
    "# x- und y-Werte die entsprechenden Werte des aktuellen Datenpunkts an.\n",
    "x_werte = []\n",
    "y_werte = []\n",
    "for datenpunkt in datenpunkte:\n",
    "    x_werte.append(datenpunkt[0])\n",
    "    y_werte.append(datenpunkt[1])\n",
    "    \n",
    "print(\"for-Schleife:\")    \n",
    "print(\"x-werte:\", x_werte)\n",
    "print(\"y-werte:\", y_werte)\n",
    "\n",
    "x_werte = []\n",
    "y_werte = []\n",
    "# Oder du verwendest eine kurze Form der for-Schleife, um Listen \n",
    "# zu erstellen (sog. list comprehension)\n",
    "x_werte = [datenpunkt[0] for datenpunkt in datenpunkte]\n",
    "y_werte = [datenpunkt[1] for datenpunkt in datenpunkte]\n",
    "\n",
    "print(\"\\nlist comprehension:\")\n",
    "print(\"x-werte:\", x_werte)\n",
    "print(\"y-werte:\", y_werte)\n",
    "\n",
    "# Nun kannst du dir die Punkte mit folgender Anweisung plotten lassen.\n",
    "plt.scatter(x_werte, y_werte)\n",
    "\n",
    "# Hast du einen Punkt vergessen, kannst du ihn nachträglich in das \n",
    "# Koordinatensystem eintragen.\n",
    "plt.scatter([1], [1])"
   ]
  },
  {
   "cell_type": "markdown",
   "metadata": {},
   "source": [
    "<img style=\"float: left;\" src=\"resources/img/laptop_icon.png\" width=50 height=50 /> <br><br>\n",
    "\n",
    "Plotte bestimmte Punkte des Graphen der Funktion $x^2$ im Koordinatensystem im Intervall von $-4$ bis $4$. Die x-Werte der geplotteten Punkte sollen dabei zu ihrem nächsten Nachbarn den Abstand $0.5$ haben."
   ]
  },
  {
   "cell_type": "code",
   "execution_count": null,
   "metadata": {},
   "outputs": [],
   "source": [
    "# Füge hier deinen Code ein."
   ]
  },
  {
   "cell_type": "markdown",
   "metadata": {},
   "source": [
    "## Trainings- und Testdaten\n",
    "\n",
    "Im Folgenden möchten wir uns unserem ersten KI-Algorithmus nähern. Betrachten wir hierzu die uns zur Verfügung stehenden Daten. Führe dazu das folgende Feld aus, um die Datenpunkte der Eier im Koordinatensystem anzuzeigen."
   ]
  },
  {
   "cell_type": "code",
   "execution_count": 22,
   "metadata": {},
   "outputs": [
    {
     "data": {
      "text/plain": [
       "<matplotlib.collections.PathCollection at 0x7f6a7d0fa128>"
      ]
     },
     "execution_count": 22,
     "metadata": {},
     "output_type": "execute_result"
    },
    {
     "data": {
      "image/png": "[encoded data removed]",
      "text/plain": [
       "<Figure size 432x288 with 1 Axes>"
      ]
     },
     "metadata": {
      "needs_background": "light"
     },
     "output_type": "display_data"
    }
   ],
   "source": [
    "hoehe_eier_blaumeise = [2, 2.5, 2.7, 1.9, 3, 2.4, 2.8, 2.3, 3, 3.2]\n",
    "helligkeit_eier_blaumeise = [0.8, 0.75, 0.86, 0.82, 0.74, 0.9, 0.82, 0.87, 0.85, 0.81]\n",
    "\n",
    "hoehe_eier_greifvogel = [8.2, 8, 9, 7.4, 7.1, 8.7, 9.3, 8.6, 8.0, 8.5]\n",
    "helligkeit_eier_greifvogel = [0.1, 0.2, 0.24, 0.18, 0.21, 0.27, 0.28, 0.22, 0.35, 0.4]\n",
    "\n",
    "farbe_eier_blaumeise = '#ec90cc'\n",
    "farber_eier_greifvogel = '#4f7087'\n",
    "\n",
    "plt.scatter(hoehe_eier_blaumeise, helligkeit_eier_blaumeise, color = farbe_eier_blaumeise)\n",
    "plt.scatter(hoehe_eier_greifvogel, helligkeit_eier_greifvogel, color = farber_eier_greifvogel)"
   ]
  },
  {
   "cell_type": "markdown",
   "metadata": {},
   "source": [
    "Um eine KI mit Daten zu trainieren, unterteilen wir die uns zur Verfügung stehende Daten in <b>Trainigsdaten</b> und <b>Testdaten</b>. Ein übliches Verhältnis wäre z.B. 8:2. Auf den Trainigsdaten wird die KI trainiert, d.h. sie passt sich so an, dass sie viele Trainingsdaten richtig klassifiziert. In unserem Fall bedeutet es, dass sie einen Trainingspunkt $(2, 0.8)$ als Ei einer Blaumeise klassifiziert. Nach einem Trainingsdurchlauf (auch <i>Epoche</i> genannt) wird auf den Testdaten die Performance der KI gemessen. Es ist dabei wichtig, dass es in den Trainings- und Testdaten keine Überschneidungen gibt!\n",
    "\n",
    "<img style=\"float: left;\" src=\"resources/img/laptop_icon.png\" width=50 height=50 /> <br><br>\n",
    "\n",
    "Unterteile die oberen Daten in Trainings- und Testdaten in einem Verhältnis zu 8:2 ohne dabei die Listen abzuschreiben. Bonus: Wähle zufällige Trainings- und Testpunkte aus. "
   ]
  },
  {
   "cell_type": "code",
   "execution_count": null,
   "metadata": {},
   "outputs": [],
   "source": [
    "# Füge hier deinen Code ein."
   ]
  },
  {
   "cell_type": "markdown",
   "metadata": {},
   "source": [
    "## k-Nearest-Neighbors (kNN)\n",
    "\n",
    "Der k-Nearest-Neighbor-Algorithmus ist ein einfacher Klassifikationsalgorithmus. Im ersten Schritt wird dem Computer „gesagt“ bei welchen Datenpunkten aus den Trainigsdaten es sich in unserem Fall um Eier der Blaumeise und bei welchen es sich um die Eier von Greifvögeln handelt. Im zweiten Schritt wird <i>k</i> festgelegt. Wir wählen $k=3$. Wenn wir nun einen neuen Datenpunkt klassifizieren müssen, bestimmen wir die $k=3$ nächsten Nachbarn dieses Datenpunkts. Hat dieser Datenpunkt mehr Nachbarn, die als Eier der Blaumeise klassifiziert sind, wird auch dieser Datenpunkt als ein Ei der Blaumeise klassifiziert. Gibt es mehr Datenpunkte der Eier der Greifvögel als Nachbarn, wird der Datenpunkt als Ei eines Greifvogels klassiziert.\n",
    "\n",
    "&nbsp;\n",
    "\n",
    "\n",
    " <figure>\n",
    "  <img src=\"resources/img/koordinatensystem_eier_knn.png\" alt=\"Koordinatensystem mit Eiern\" style=\"width:45%\">\n",
    "  <figcaption></figcaption>\n",
    "</figure> \n",
    "\n",
    "&nbsp;\n",
    "\n",
    "<img style=\"float: left;\" src=\"resources/img/laptop_icon.png\" width=50 height=50 /> <br><br>\n",
    "\n",
    "Implementiere den kNN-Algorithmus."
   ]
  },
  {
   "cell_type": "code",
   "execution_count": 23,
   "metadata": {},
   "outputs": [],
   "source": [
    "# Füge hier deinen Code ein."
   ]
  },
  {
   "cell_type": "markdown",
   "metadata": {},
   "source": [
    "## Nachteile\n",
    "\n",
    "Wir mussten Feature selbst festlegen.\n",
    "Wir mussten sie selbst ausmessen.\n",
    "Wir mussten Bilder sammlen und selbst labeln. \n"
   ]
  }
 ],
 "metadata": {
  "kernelspec": {
   "display_name": "Python 3",
   "language": "python",
   "name": "python3"
  },
  "language_info": {
   "codemirror_mode": {
    "name": "ipython",
    "version": 3
   },
   "file_extension": ".py",
   "mimetype": "text/x-python",
   "name": "python",
   "nbconvert_exporter": "python",
   "pygments_lexer": "ipython3",
   "version": "3.6.12"
  }
 },
 "nbformat": 4,
 "nbformat_minor": 2
}
