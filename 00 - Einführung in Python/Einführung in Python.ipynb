{
 "cells": [
  {
   "cell_type": "markdown",
   "metadata": {},
   "source": [
    "<img style=\"float: right;\" src=\"resources/img/lll_logo.png\" width=160 height=160 />\n",
    " \n",
    "# Einführung in Python \n",
    "\n",
    "Dieses Übungsblatt ist eine kurze Einführung in Python und bietet dir eine Übersicht über die wichtigsten Punkte, die du für den KI-Workshop benötigst. <br>\n",
    "Das Übungsblatt ist ein Jupyter Notebook. Es besteht aus Felder, die Text beinhalten und nicht ausführbar sind, und aus Felder in denen ausführbarer Code geschrieben ist. <br><br>\n",
    "\n",
    "<img style=\"float: left;\" src=\"resources/img/laptop_icon.png\" width=50 height=50 /> <br><br>\n",
    "Führe das untere Feld aus, indem du das Feld per Klick auswählst und entweder oben in der Leiste auf <b><i>Run</i></b> klickst oder <b><i>Strg</i></b> gedrückt hältst und auf <b><i>Enter</i></b> drückst.\n"
   ]
  },
  {
   "cell_type": "code",
   "execution_count": 1,
   "metadata": {
    "scrolled": true
   },
   "outputs": [
    {
     "name": "stdout",
     "output_type": "stream",
     "text": [
      "Herzlich Willkommen im Lehr-Lern-Labor Informatik am KIT!\n"
     ]
    }
   ],
   "source": [
    "# Das ist ein ausführbares Feld.\n",
    "# Zeilen, die mit dem Symbol # beginnen, werden vom Compiler ignoriert. \n",
    "# Du kannst # also dafür nutzen, um Kommentare zu schreiben.\n",
    "\n",
    "print(\"Herzlich Willkommen im Lehr-Lern-Labor Informatik am KIT!\")"
   ]
  },
  {
   "cell_type": "markdown",
   "metadata": {},
   "source": [
    "## 1. Warum Python?\n",
    "\n",
    "<br>\n",
    "\n",
    " <figure>\n",
    "  <img src=\"resources/img/statista_beliebteste_programmiersprachen.png\" alt=\"Deep Neural Network\" style=\"width:70%\">\n",
    "  <br>\n",
    "  <figcaption></figcaption>\n",
    "</figure> \n",
    "\n",
    "<br>\n",
    "\n",
    "Python lässt sich auf Grund der einfachen Syntax schnell erlernen und bietet v.a. zu den aktuellen Themen der künstlichen Intelligenz wie den tiefen neuronalen Netzen, der Sprachverarbeitung (Natural Language Processing) und viele weiteren eine sehr gute Auswahl an Bibliotheken (d.h. Code den man für seine eigenen Projekte benutzen kann ohne alles selbst schreiben zu müssen). Diese Faktoren machen Python momentan zu der beliebtesten Programmiersprache weltweit. Es ist also an der Zeit, dass du fit in Python wirst. Los geht's!\n",
    "\n",
    "\n",
    "## 2. Einrückungen\n",
    "\n",
    "Im Gegensatz zu solchen Programmiersprachen wie <i>C#</i> oder <i>Java</i> werden in Python keine geschweiften Klammern verwendet, um das Programm zu strukturieren. Die ganze Strukturierung von Klassen, Anweisungen und Funktionen basiert auf Einrückungen. Wenn du eine Anweisung schreibst und eine Einrückung vergisst, kann sich dein Programm anders verhalten als du es möchtest. Achte also im Folgenden besonders darauf, welcher Code eingerückt werden muss.\n",
    "\n",
    "<img style=\"float: left;\" src=\"resources/img/laptop_icon.png\" width=50 height=50 /> <br><br>\n",
    "Führe das folgende Feld aus. Behebe anschließend den Fehler."
   ]
  },
  {
   "cell_type": "code",
   "execution_count": 2,
   "metadata": {},
   "outputs": [
    {
     "ename": "IndentationError",
     "evalue": "unexpected indent (<ipython-input-2-2b0d8e1aa78a>, line 7)",
     "output_type": "error",
     "traceback": [
      "\u001b[0;36m  File \u001b[0;32m\"<ipython-input-2-2b0d8e1aa78a>\"\u001b[0;36m, line \u001b[0;32m7\u001b[0m\n\u001b[0;31m    print(str2)\u001b[0m\n\u001b[0m    ^\u001b[0m\n\u001b[0;31mIndentationError\u001b[0m\u001b[0;31m:\u001b[0m unexpected indent\n"
     ]
    }
   ],
   "source": [
    "# Hier wurde richtig eingerückt.\n",
    "str1 = \"Hallo!\"\n",
    "print(str1)\n",
    "\n",
    "# Diese Einrückung ist falsch\n",
    "str2 = \"Hi!\"\n",
    "    print(str2)"
   ]
  },
  {
   "cell_type": "markdown",
   "metadata": {},
   "source": [
    "\n",
    "## 3. Wichtige Datentypen\n",
    "\n",
    "Aus dem Informatikunterricht kennst du vielleicht schon verschiedene Datentypen wie <i>Integer</i> für Ganzzahlen, <i>Double</i> für Kommazahlen, <i>String</i> für Zeichenketten usw. Bei vielen Programmiersprachen musst du bei der Deklaration einer Variablen angeben, um welchen Datentypen es sich handelt. <br>In Python ist das nicht erforderlich, da der Compiler selbst bei der Ausführung entscheidet, welcher Datentyp für eine Variable am sinnvollsten ist. <br><br>\n",
    "\n",
    "<img style=\"float: left;\" src=\"resources/img/laptop_icon.png\" width=50 height=50 /> <br><br>\n",
    "Ergänze die fehlenden Werte der Variablen, sodass die Ausgabe fehlerfrei ist. <br>\n",
    "(Hinweis: Boolsche Werte nehmen in Python entweder den Wert <i>True</i> oder <i>False</i> an.)"
   ]
  },
  {
   "cell_type": "code",
   "execution_count": null,
   "metadata": {
    "scrolled": true
   },
   "outputs": [],
   "source": [
    "steckbrief = \"Steckbrief:\\n\"\n",
    "\n",
    "# Deklariere die Variablen 'name', 'maennlich', 'alter' \n",
    "# und 'groesse' analog zu der Deklarierung von der \n",
    "# Variaben 'steckbrief'.\n",
    "\n",
    "# Füge hier deinen Code ein.\n",
    "\n",
    "\n",
    "print(steckbrief, \"Name: \", name, \"\\n\", \"männlich:\", maennlich, \n",
    "      \"\\n\", \"Alter: \", alter, \"\\n\", \"Größe (in m): \", groesse)"
   ]
  },
  {
   "cell_type": "markdown",
   "metadata": {},
   "source": [
    "Schaue dir das folgende Feld mit den Erklärungen an und führe es aus. Dieser Code hilft dir bei der Bearbeitung der nächsten Aufgabe."
   ]
  },
  {
   "cell_type": "code",
   "execution_count": 12,
   "metadata": {},
   "outputs": [
    {
     "name": "stdout",
     "output_type": "stream",
     "text": [
      "Der Wert von x ist: 9\n",
      "Wie geht's dir? Mir geht es gut.\n",
      "Lisa und Luca sind befreundet.\n",
      "Lisa und Luca sind befreundet.\n"
     ]
    }
   ],
   "source": [
    "# Deklaration und Initialisierung einer Variablen\n",
    "x = 12\n",
    "\n",
    "# Du kannst den Wert der Variablen neu festlegen.\n",
    "x = 7\n",
    "\n",
    "# Möchtest du den Wert einer Variablen um eine bestimmte Zahl\n",
    "# erhöhen, gibt es dazu zwei Möglichkeiten.\n",
    "x = x + 1\n",
    "x += 1\n",
    "\n",
    "print(\"Der Wert von x ist:\", x)\n",
    "\n",
    "# Zeichenketten machst du durch Anführungszeichen kenntlich.\n",
    "zeichenkette1 = \"Wie geht's dir?\"\n",
    "zeichenkette2 = \" Mir geht es gut.\"\n",
    "\n",
    "# Durch ein + verbindest du zwei Zeichenketten miteinander.\n",
    "ergebnis = zeichenkette1 + zeichenkette2\n",
    "print(ergebnis)\n",
    "\n",
    "# Möchtst du in deine Ausgabe Variablen integrieren, gibt\n",
    "# es dazu zwei Möglichkeiten.\n",
    "name1 = \"Lisa\"\n",
    "name2 = \"Luca\"\n",
    "\n",
    "# Entweder trennst du alle Zeichenketten mit einem Komma...\n",
    "print(name1, \"und\", name2, \"sind befreundet.\")\n",
    "\n",
    "# ... oder du schreibst ein f vor den Anführungszeichen\n",
    "# und schreibst deine Variablen in geschweiften Klammern\n",
    "# in deine Ausgabe rein.\n",
    "print(f\"{name1} und {name2} sind befreundet.\")"
   ]
  },
  {
   "cell_type": "markdown",
   "metadata": {},
   "source": [
    "<img style=\"float: left;\" src=\"resources/img/laptop_icon.png\" width=50 height=50 /> <br><br>\n",
    "Bearbeite das folgenden Feld, um den Umgang mit Zahlen zu üben."
   ]
  },
  {
   "cell_type": "code",
   "execution_count": null,
   "metadata": {
    "scrolled": true
   },
   "outputs": [],
   "source": [
    "from resources.code.help_functions import pruefe_eingabe\n",
    "\n",
    "# Ergänze unter jedem nachfolgenden Kommentar deinen Code.\n",
    "x = 9\n",
    "\n",
    "# Addiere zur Variable 'x' 6 dazu.\n",
    "\n",
    "\n",
    "# Multipliziere das Ergebnis mit 3. \n",
    "\n",
    "\n",
    "# Nehme das Ergebnis hoch 4 (Hochzeichen: **).\n",
    "\n",
    "\n",
    "# Teile das Ergebnis durch 91125.\n",
    "\n",
    "\n",
    "# Subtrahiere 3 vom Ergebnis.\n",
    "\n",
    "\n",
    "pruefe_eingabe(x)"
   ]
  },
  {
   "cell_type": "markdown",
   "metadata": {},
   "source": [
    "<img style=\"float: left;\" src=\"resources/img/laptop_icon.png\" width=50 height=50 /> <br><br>\n",
    "Bearbeite das folgenden Feld, um den Umgang mit Zeichenketten zu üben."
   ]
  },
  {
   "cell_type": "code",
   "execution_count": null,
   "metadata": {
    "scrolled": true
   },
   "outputs": [],
   "source": [
    "begruessung1 = 'hi'\n",
    "begruessung2 = 'hallo'\n",
    "begruessung3 = 'hey'\n",
    "\n",
    "# Konkateniere alle Begrüßungen indem du die oberen String jeweils durch ein '+' verbindest\n",
    "# und das Ergebnis in der Variable 'begruessung' speicherst.\n",
    "# Konkatentation bedeutet, dass Worte einfach aneinandergereiht und zu einem neuen Wort zusammengefügt werden.\n",
    "\n",
    "\n",
    "print(\"Konkatierter String: \", begruessung)\n",
    "\n",
    "# Gib den dritten und siebten Buchstaben der Variable 'begruessung' aus und überprüfe dein Ergebnis selbst. \n",
    "# Möchtest du den i-ten Buchstaben eines Strings str ausgeben lassen, schreibst du einfach str[i].\n",
    "# (Beachte, dass Informatiker von 0 anfangen zu zählen!)\n",
    "\n",
    "\n",
    "# Du kannst nicht nur einzelne Buchstaben eines Strings ausgeben lassen, sondern bestimmte Bereiche.\n",
    "# Möchtest du von einem String str z.B. den Bereich vom fünften bis ausschließlich zum achten String ausgeben \n",
    "# lassen, machst du das durch str[5:8]. \n",
    "# Möchtest du den Bereich von Anfang bis ausschließlich dem vierten Buchstaben erhalten, \n",
    "# schreibst du str[0:4] oder str[:4]. \n",
    "# Analog schreibst du str[4:], wenn du den Bereich vom vierten bis zum letzten Buchstaben\n",
    "# erhalten möchtest.\n",
    "\n",
    "# Benutze deine vorher definierte Variable 'begruessung', um hi, hallo und hey mithilfe von [] ausgeben zu lassen.\n"
   ]
  },
  {
   "cell_type": "markdown",
   "metadata": {},
   "source": [
    "## 4. Kontrollstrukturen\n",
    "\n",
    "Möchtest du in Python den Ablauf deines Programms steuern, verwendest du Kontrollstrukturen so wie in den Programmiersprachen, die du bereits kennst. Nur die Syntax unterscheidet sich ein wenig. Im Folgenden findest du immer ein Beispiel von einer Kontrollstruktur in einem ausführbaren Feld gefolgt von einer Aufgabe, bei der du das Gezeigte direkt anwenden kannst. \n",
    "\n",
    "### if-else-Anweisung"
   ]
  },
  {
   "cell_type": "code",
   "execution_count": 15,
   "metadata": {
    "scrolled": true
   },
   "outputs": [
    {
     "name": "stdout",
     "output_type": "stream",
     "text": [
      "Die Bedingung ist erfült.\n",
      "Die Zahl ist größer als 5.\n",
      "Hallo Angela!\n",
      "Angela und Olaf sind zwei unterschiedliche Namen.\n"
     ]
    }
   ],
   "source": [
    "# Führe das folgende Feld aus. \n",
    "# Beobachte, was passiert, wenn du die Wert änderst.\n",
    "\n",
    "bedingung = True\n",
    "\n",
    "# Klammern sind bei einer if-else-Anweisung um die Bedingung optional.\n",
    "if bedingung:\n",
    "    print(\"Die Bedingung ist erfült.\")\n",
    "else:\n",
    "    print(\"Die Bedingung ist nicht erfüllt.\")\n",
    "    \n",
    "x = 5\n",
    "\n",
    "if (x < 0):\n",
    "    print(\"Die Zahl ist kleiner 0.\")\n",
    "elif (0 <= x <= 3):\n",
    "    print(\"Die Zahl liegt zwischen 0 und 3.\")\n",
    "else:\n",
    "    print(\"Die Zahl ist größer als 5.\")\n",
    "    \n",
    "name1 = 'Angela'\n",
    "name2 = 'Olaf'\n",
    "\n",
    "# Eine elif- oder else-Anweisung muss nicht zwingend nach einer if-Anweisung folgen.\n",
    "if name1 == 'Angela':\n",
    "    print(\"Hallo Angela!\")\n",
    "    \n",
    "if name1 != name2:\n",
    "    print(f\"{name1} und {name2} sind zwei unterschiedliche Namen.\")"
   ]
  },
  {
   "cell_type": "markdown",
   "metadata": {},
   "source": [
    "<img style=\"float: left;\" src=\"resources/img/laptop_icon.png\" width=50 height=50 /> <br><br>\n",
    "Realisiere folgenden Sachverhalt: <br>\n",
    "\n",
    "<i>Wenn der eingeloggte Benutzer Jana ist, dann soll sie zunächst begrüßt werden. Wenn sie das Passwort richtig eingeben hat (verwende für das Passwort eine boolsche Variable), dann soll ihr aktueller Punktestand von 2241 Punkten ausgegeben werden. Wenn sie das Passwort falsch eingegeben hat, dann soll eine entsprechende Rückmeldung ausgegeben werden. Wenn der eingeloggte Benutzer Ramon ist, dann ist der Ablauf analog zum oberen Fall, wobei sein aktueller Punktestand 2110 beträgt. Wenn der eingeloggte Benutzer weder Jana noch Ramon ist, dann soll ausgegeben werden, dass der Nutzername nicht bekannt ist. "
   ]
  },
  {
   "cell_type": "code",
   "execution_count": null,
   "metadata": {
    "scrolled": true
   },
   "outputs": [],
   "source": [
    "# Füge hier deinen Code ein.\n",
    "        "
   ]
  },
  {
   "cell_type": "markdown",
   "metadata": {},
   "source": [
    "### while-Schleife\n",
    "Der Code in der while-Schleife wird solange ausgeführt, bis die Bedingung der while-Schleife nicht mehr erfüllt ist. Wenn die Bedingung nie auf <i>falsch</i> gesetzt wird, dann wird die while-Schleife unendlich oft ausgeführt und dein Programm wird nie regulär beendet. "
   ]
  },
  {
   "cell_type": "code",
   "execution_count": null,
   "metadata": {
    "scrolled": true
   },
   "outputs": [],
   "source": [
    "i = 0\n",
    "while i < 5:\n",
    "    print(\"i=\", i)\n",
    "    i += 1"
   ]
  },
  {
   "cell_type": "markdown",
   "metadata": {},
   "source": [
    "<img style=\"float: left;\" src=\"resources/img/laptop_icon.png\" width=50 height=50 /> <br><br>\n",
    "Berechne mithilfe der while-Schleife die Summe von 1 bis 10.\n",
    "\n"
   ]
  },
  {
   "cell_type": "code",
   "execution_count": null,
   "metadata": {
    "scrolled": true
   },
   "outputs": [],
   "source": [
    "# Füge hier deinen Code ein.\n"
   ]
  },
  {
   "cell_type": "markdown",
   "metadata": {},
   "source": [
    "### for-Schleife\n",
    "Möchtest du über einen Zahlenbereich (ganze Zahlen), einen String oder allgemein über ein iterierbares Objekt iterieren, so eignet sich die for-Schleife dazu. "
   ]
  },
  {
   "cell_type": "code",
   "execution_count": null,
   "metadata": {
    "scrolled": true
   },
   "outputs": [],
   "source": [
    "# So iterierst du über den Zahlenbereich (ganzer Zahlen) von 0 bis aussschließlich 3.\n",
    "for i in range(3):\n",
    "    print(\"{}. Hallo\".format(i))\n",
    "    \n",
    "# So iterierst du über den Zahlenbereich (ganzer Zahlen) von 5 bis aussschließlich 10.\n",
    "for i in range(3,6):\n",
    "    print(\"{}. Hi\".format(i))\n",
    "    \n",
    "# So iterierst du über einen String.\n",
    "str = 'ABCDE'\n",
    "for s in str:\n",
    "    print(s)"
   ]
  },
  {
   "cell_type": "markdown",
   "metadata": {},
   "source": [
    "<img style=\"float: left;\" src=\"resources/img/laptop_icon.png\" width=50 height=50 /> <br><br>\n",
    "Zähle mit Hilfe einer for-Schleife und einer if-Anweisung die Vorkommen des Bustaben 'a' im vorgegebenen Satz. Anschließend kannst du mit <i>satz.count('a')</i> überprüfen, ob du richtig liegst."
   ]
  },
  {
   "cell_type": "code",
   "execution_count": null,
   "metadata": {
    "scrolled": true
   },
   "outputs": [],
   "source": [
    "satz = \"Max wachst Wachsmasken. Was macht Max? Wachsmasken wachst Max.\"\n",
    "\n",
    "# Füge hier deinen Code ein.\n"
   ]
  },
  {
   "cell_type": "markdown",
   "metadata": {},
   "source": [
    "## 5. Sequentielle Datentypen\n",
    "\n",
    "Du hast mit dem Datentyp <i>String</i> bereits einen sequentiellen Datentyp in Python kennengelernt. Im Folgenden betrachten wir weitere sequentielle Datentypen.\n",
    "\n",
    "### Tupel\n",
    "\n",
    "In Tupeln kannst du mehrere Informationen speichern. Einmal definiert, können die Werte in einem Tupel nicht mehr verändert werden."
   ]
  },
  {
   "cell_type": "code",
   "execution_count": null,
   "metadata": {
    "scrolled": true
   },
   "outputs": [],
   "source": [
    "# Tupel definierst du mit Hilfe von runden Klammern ().\n",
    "sheldon = ('Sheldon', 'Cooper', '26.Februar 1980', 'Theoretischer Teilchenphysiker')\n",
    "leonard = ('Leonard', 'Leakey Hofstadter', '17.Mai 1980', 'Experimentalphysiker')\n",
    "amy = ('Amy', 'Farrah Fowler', '17. Dezember', 'Neurobiologin')\n",
    "\n",
    "# Mithilfe von eckigen Klammern greifst du auf die unterschiedlichen Einträge zu.\n",
    "print(f\"{amy[0]} {amy[1]} ist {amy[3]}.\")"
   ]
  },
  {
   "cell_type": "markdown",
   "metadata": {},
   "source": [
    "### Listen\n",
    "\n",
    "Du kannst mit Hilfe von Listen mehrere Inhalte speichern, so wie du das oben bei Tupeln gesehen hast. Allerdings kannst du im Gegensatz die Inhalte in Listen verändern, hinzufügen und löschen."
   ]
  },
  {
   "cell_type": "code",
   "execution_count": 19,
   "metadata": {
    "scrolled": true
   },
   "outputs": [
    {
     "name": "stdout",
     "output_type": "stream",
     "text": [
      "Farbe:  rot\n",
      "Farbe:  grün\n",
      "Farbe:  gelb\n",
      "Farbe:  blau\n",
      "Farbe:  lila\n",
      "Farbe:  pink\n",
      "Farbe:  orange\n",
      "Die Farbe 'gelb' steht in der Liste an dritter Stelle.\n",
      "'orange' ist das letzte und 'pink' das vorletzte Elemente der Liste.\n",
      "Die Farbe 'orange' wurde entfernt.\n",
      "Die Farbe 'blau' wurde entfernt.\n",
      "['grün', 'gelb', 'lila', 'pink', 'türkis', 'burgund', 'beige', 'magenta', 'khaki']\n"
     ]
    }
   ],
   "source": [
    "# Listen werden mit Hilfe von eckigen Klammern definiert.\n",
    "farben = [\"rot\", \"grün\", \"gelb\", \"blau\", \"lila\", \"pink\", \"orange\"]\n",
    "\n",
    "# So iterierst über eine Liste.\n",
    "for farbe in farben:\n",
    "    print(\"Farbe: \", farbe)\n",
    "    \n",
    "# Du kannst auch durch einen bestimmten Index i Elemente in der Liste ansprechen: name_der_liste[i].\n",
    "print(f\"Die Farbe '{farben[2]}' steht in der Liste an dritter Stelle.\")\n",
    "\n",
    "# Durch den Index -1 wird dir das letzte Element zurückgegeben, mit dem Index -2 das vorletzte, usw.\n",
    "print(f\"'{farben[-1]}' ist das letzte und '{farben[-2]}' das vorletzte Elemente der Liste.\")\n",
    "\n",
    "# Mit dem Befehl name_der_liste.pop() wird dir das zuletzt hinzugefügte Element zurückgegeben und entfernt.\n",
    "# Gibst du in der Klammer eine Zahl i an, so wird das i-te Element der Liste zurückgegeben und entfernt.\n",
    "print(f\"Die Farbe '{farben.pop()}' wurde entfernt.\")\n",
    "print(f\"Die Farbe '{farben.pop(3)}' wurde entfernt.\")\n",
    "\n",
    "# Wenn ein Element entfernt werden soll, verwendest du den Befehl name_der_liste.remove(inhalt). \n",
    "farben.remove('rot')\n",
    "\n",
    "# Mit dem Befehl name_der_liste.append() hängst du ein neues Element an die Liste.\n",
    "farben.append('türkis')\n",
    "# alternativ:\n",
    "farben = farben + ['burgund']\n",
    "\n",
    "# Du kannst sogar Listen an andere Listen anhängen. \n",
    "# Hiefür verwendest du den Befehl name_der_liste.extend(andere_Liste).\n",
    "farben2 = [\"beige\", \"magenta\", \"khaki\"]\n",
    "farben.extend(farben2)\n",
    " \n",
    "print(farben)\n",
    "\n",
    "# Eine Liste muss nicht zwingend Objekte vom gleichen Datentyp beinhalten.\n",
    "liste = [1.3, 'rot', 42, ['Lea', 'Frank', 'Ali']]\n"
   ]
  },
  {
   "cell_type": "markdown",
   "metadata": {},
   "source": [
    "<img style=\"float: left;\" src=\"resources/img/laptop_icon.png\" width=50 height=50 /> <br><br>\n",
    "Eine Fibonacci-Zahl ist gleich der Summe ihrer beiden Vorgänger, wobei die erste Zahl gleich 0 und die zweite Zahl gleich 1 sind. In der Liste 'fibonacci' sind die ersten beiden Zahlen bereits abgespeichert. Führe diese Liste solange fort bis 15 Zahlen in dieser Liste sind und überprüfe dein Ergebnis."
   ]
  },
  {
   "cell_type": "code",
   "execution_count": null,
   "metadata": {
    "scrolled": true
   },
   "outputs": [],
   "source": [
    "from resources.code.help_functions import pruefe_fibonacci\n",
    "\n",
    "fibonacci = [0, 1]\n",
    "    \n",
    "pruefe_fibonacci(fibonacci)"
   ]
  },
  {
   "cell_type": "markdown",
   "metadata": {},
   "source": [
    "### Dictionaries\n",
    "Abgesehen von Listen, Strings und Tupeln gibt es in Python noch einen weiteren wichtigen sequentiellen Datentyp: <i>Dictonaries</i> (in anderen Programmierspachen auch als <i>Maps</i> oder <i>Hashs</i> bezeichnet). Dabei wird immer ein Schlüssel-Objekt-Paar abgespeichert, so dass man analog zu einem Wörterbuch nach einem Schlüssel suchen kann und das entsprechende Objekt zurückgegeben wird."
   ]
  },
  {
   "cell_type": "code",
   "execution_count": null,
   "metadata": {
    "scrolled": true
   },
   "outputs": [],
   "source": [
    "# Eine Dictionary wird durch geschweifete Klammern gekennzeichnet. \n",
    "# Nach der Eingabe des Schlüssels folgt ein Doppelpunkt gefolgt von dem Objekt, \n",
    "# das mit diesem Schlüssel assoziiert werden soll. \n",
    "dictionary = {'animal': 'Tier', 'ball': 'Ball', 'chicken': 'Hähnchen', 'door': 'Tür'}\n",
    "\n",
    "# Möchtest du das Objekt für einen bestimmten Eintrag erhalten, schreibst du das wie folgt:\n",
    "print(\"Eintrag für 'door':\", dictionary['door'])\n",
    "\n",
    "# So kannst du weitere Einträge zu der Dictionary hinzufügen.\n",
    "dictionary['egg'] = 'Ei'\n",
    "\n",
    "# Fügst du für einen bereits vorhandenen Schlüssel einen weiteren Eintrag hinzu,\n",
    "# so wird der alte Eintrag überschrieben.\n",
    "dictionary['chicken'] = 'Hühnchen'\n",
    "\n",
    "# So iterierst du über alle Schlüssel der Dictionary:\n",
    "for key in dictionary:\n",
    "    print(\"Schlüssel: {} --> Objekt: {}\".format(key, dictionary[key]))\n",
    "    \n",
    "# So iterierst du über alle Objekte der Dictionary:\n",
    "print(\"Alle Objekte in der Dicionary:\", end=\" \")\n",
    "for value in dictionary.values():\n",
    "    print(value, end=\". \")\n",
    "print()\n",
    "\n",
    "# So erstellt du eine leere Dictionary, der du später Einträge hinzufügen kannst:\n",
    "leere_dictionary1 = {}\n",
    "# alternativ:\n",
    "leere_dictionary2 = dict()\n",
    "print(\"Leere Liste 1:\", leere_dictionary1, \"leere Liste 2:\", leere_dictionary2)\n",
    "    \n",
    "# Du kannst durch die Funktion zip(liste1, liste2) aus zwei Listen liste1 und liste2 eine Dictionary erstellen.\n",
    "laender = ['Deutschland', 'Frankreich','Niederlande', 'Spanien']\n",
    "hauptstaedte = ['Berlin', 'Paris','Amsterdam',  'Madrid']\n",
    "zuordnung = dict(zip(laender, hauptstaedte))\n",
    "print(zuordnung)"
   ]
  },
  {
   "cell_type": "markdown",
   "metadata": {},
   "source": [
    "<img style=\"float: left;\" src=\"resources/img/laptop_icon.png\" width=50 height=50 /> <br><br>\n",
    "Kodiere den gegebenen Ausdruck in Morse-Code und lasse deine Morse-Code prüfen. Dekodiere anschließend den gegebenen Morse-Code."
   ]
  },
  {
   "cell_type": "code",
   "execution_count": 6,
   "metadata": {
    "scrolled": true
   },
   "outputs": [
    {
     "name": "stdout",
     "output_type": "stream",
     "text": [
      "1.Aufgabe: Irgendwo hast du einen Fehler gemacht. Versuche es noch einmal!\n",
      "['-.', '.', '..-', '.-.', '---', '-.', '.-', '.-..', '.', '...', '/', '-.', '.', '-', '--..']\n",
      "2.Aufgabe: Irgendwo hast du einen Fehler gemacht. Versuche es noch einmal!\n"
     ]
    }
   ],
   "source": [
    "from resources.code.help_functions import morse, pruefe_kodiertes_wort, pruefe_dekodiertes_wort\n",
    "\n",
    "# Die Variable 'morse' ist eine Dictionary. \n",
    "# Für jeden Großbuchstaben, Umlaut, Ziffer, Punkt, Komma und Leerzeichen \n",
    "# gibt es einen entsprechenden Eintrag in Morse-Code. \n",
    "morse = morse()\n",
    "\n",
    "ausdruck = \"KÜNSTLICHE INTELLIGENZ\"\n",
    "codiertes_wort = \"\"\n",
    "\n",
    "# Füge deinen Code hier ein\n",
    "\n",
    "pruefe_kodiertes_wort(codiertes_wort)\n",
    "\n",
    "morse_code = '-. . ..- .-. --- -. .- .-.. . ... / -. . - --..'\n",
    "ergebnis = \"\"\n",
    "\n",
    "# Füge deinen Code hier ein\n",
    "# Die Funktion string.split(' ') kann dir dabei behilflich sein.\n",
    "# Sie gibt alle Wörter als List in string zurück, \n",
    "# die durch ein Leerzeichen getrennt sind. \n",
    "\n",
    "pruefe_dekodiertes_wort(ergebnis)"
   ]
  },
  {
   "cell_type": "markdown",
   "metadata": {},
   "source": [
    "## 6. Funktionen \n",
    "\n",
    "Um u.a. nicht jedes Mal bestimmten Code aufs Neue schreiben zu müssen, definiert man in Python (sowie in allen anderen Programmiersprachen) Funktionen. Diese können an den passenden Stellen aufgerufen werden, sodass der Code übersichtlich bleibt. <br><br>\n",
    "Angenommen man möchte an einer Stelle im Programmcode die Summe von <i>a</i> und bis <i>b</i> berechnen und an einer anderen Stelle die Summe von <i>c</i> bis <i>d</i>. Anstatt zweimal den selben Code zu schreiben, kann man eine Funktion definieren, die die Summe der Zahlen zwischen zwei bestimmten Zahlen berechnet."
   ]
  },
  {
   "cell_type": "code",
   "execution_count": null,
   "metadata": {
    "scrolled": true
   },
   "outputs": [],
   "source": [
    "# Mit dem Schlüsselwort def definierst du eine Funktion.\n",
    "# Der Name deiner Funktion ist (bis auf bestimmte Einschränkungen) frei wählbar.\n",
    "# In den runden Klammern schreibst du deine Paramter, dabei brauchst du nicht anzugeben, \n",
    "# um welche Datentypen es sich handelt.\n",
    "# Außerdem brauchst du nicht anzugeben, ob die Funktion einen Wert zurückgibt oder nicht.\n",
    "\n",
    "# Berechnet die Summe von 'untere_grenze' bis einschließlich 'obere_grenze'.\n",
    "def summe(untere_grenze, obere_grenze):\n",
    "    rueckgabewert = 0\n",
    "    for i in range(untere_grenze, obere_grenze+1):\n",
    "        rueckgabewert += i\n",
    "    return rueckgabewert\n",
    "\n",
    "# Jetzt können wir die Funktion so oft aufrufen, wie wir es für sinnvoll halten.\n",
    "print(f\"Summe von 1 bis 10: {summe(1, 10)}\")\n",
    "print(f\"Summe von 110 bis 120: {summe(110, 120)}\")\n",
    "\n"
   ]
  },
  {
   "cell_type": "markdown",
   "metadata": {},
   "source": [
    "<img style=\"float: left;\" src=\"resources/img/laptop_icon.png\" width=50 height=50 /> <br><br>\n",
    "Implementiere folgende Funktionen."
   ]
  },
  {
   "cell_type": "code",
   "execution_count": 21,
   "metadata": {
    "scrolled": true
   },
   "outputs": [
    {
     "name": "stdout",
     "output_type": "stream",
     "text": [
      "None None None\n"
     ]
    }
   ],
   "source": [
    "'''\n",
    "@param name: Name der Person, die begrüßt werden soll\n",
    "@return: Begrüßung der Person als Zeichenkette\n",
    "'''\n",
    "def begruessung(name):\n",
    "    # Füge deinen Code hier ein und lösche 'pass'.\n",
    "    pass\n",
    "\n",
    "'''\n",
    "@param name: Geburtsjahr\n",
    "@return: (ungefähres) Alter der Person\n",
    "'''\n",
    "def alter_berechnen(geburtsjahr):\n",
    "    # Füge deinen Code hier ein und lösche 'pass'.\n",
    "    pass\n",
    "\n",
    "'''\n",
    "@param name: Liste von Zahlenwerten\n",
    "@return: Durchschnitt der Zahlen\n",
    "'''\n",
    "def durchschnitt(liste):\n",
    "    # Füge deinen Code hier ein und lösche 'pass'.\n",
    "    pass\n",
    "\n",
    "name = \"Chris\"\n",
    "geburtsjahr = 2008\n",
    "liste = [1.0, 2.0, 2.3, 1.3]\n",
    "\n",
    "ergebnis1 = begruessung(name)\n",
    "ergebnis2 = alter_berechnen(geburtsjahr)\n",
    "ergebnis3 = durchschnitt(liste)\n",
    "\n",
    "print(ergebnis1, ergebnis2, ergebnis3)\n",
    "\n",
    "# BONUS: Implementiere eine Funktion, die als Parameter eine natürlich Zahl n bekommt \n",
    "# und die n-te Fibonacci-Zahl ausgibt.\n",
    "\n",
    "'''\n",
    "@param n: natürliche Zahl\n",
    "@return: n-te Fibonacci-Zahl\n",
    "'''\n",
    "def fibonacci(n):\n",
    "    # Füge deinen Code hier ein und lösche 'pass'.\n",
    "    pass\n"
   ]
  },
  {
   "cell_type": "markdown",
   "metadata": {},
   "source": [
    "## 7. Klassen"
   ]
  },
  {
   "cell_type": "code",
   "execution_count": null,
   "metadata": {
    "scrolled": true
   },
   "outputs": [],
   "source": [
    "# Eine Klasse wird durch das Schlüsselwort 'class' gekennzeichnet.\n",
    "class Person:\n",
    "    \n",
    "    # So wird der Konstruktur einer Klasse definiert.\n",
    "    # Beachte, dass der erste Parameter jeder Funktion immer 'self' ist.\n",
    "    def __init__(self, name, alter, wohnort):\n",
    "        self.name = name\n",
    "        self.alter = alter\n",
    "        self.wohnort = wohnort\n",
    "        \n",
    "    def gebe_name_zurueck(self):\n",
    "        return self.name\n",
    "    \n",
    "    def gebe_alter_zurueck(self):\n",
    "        return self.alter\n",
    "    \n",
    "    def gebe_wohnort_zurueck(self):\n",
    "        return self.wohnort\n",
    "    \n",
    "    def geburtstag(self):\n",
    "        self.alter += 1\n",
    "    \n",
    "    def umziehen(self, neuer_wohnort):\n",
    "        self.wohnort = neuer_wohnort\n",
    "\n",
    "# Ein Objekt der Klasse 'Person' wird erstellt\n",
    "luca = Person(\"Luca\", 15, \"Karlsruhe\")\n",
    "\n",
    "luca.geburtstag()\n",
    "luca.umziehen(\"Freiburg\")\n",
    "\n",
    "print(f\"{luca.gebe_name_zurueck()} ist {luca.gebe_alter_zurueck()} Jahre alt \" + \n",
    "      f\"und wohnt in {luca.gebe_wohnort_zurueck()}\")"
   ]
  },
  {
   "cell_type": "markdown",
   "metadata": {},
   "source": [
    "<img style=\"float: left;\" src=\"resources/img/laptop_icon.png\" width=50 height=50 /> <br><br>\n",
    "Schreibe eine Klasse, die einen Getränkeautomaten simulieren soll. Der Automat soll die Attribute 'an' und 'konto' haben. Folgende Methoden sollen in der Klasse implementiert werden: <i>anschalten, ausschalten, muenze_einwerfen</i> und <i>getraenk_ausgeben</i>. Der Automat soll genau dann ein Getränk ausgeben und den Kontostand um zwei Münzen verkleinern, wenn er eingeschaltet ist, mehr als zwei Münzen auf dem Kontostand sind und die Methode <i>getraenk_ausgeben</i> aufgerufen wird."
   ]
  },
  {
   "cell_type": "code",
   "execution_count": null,
   "metadata": {
    "scrolled": true
   },
   "outputs": [],
   "source": [
    "# Füge deinen Code hier ein"
   ]
  },
  {
   "cell_type": "markdown",
   "metadata": {},
   "source": [
    "## 8. Importe\n",
    "\n",
    "Möchtest du auf Code anderer Dateien oder auf deine lokalen Bibliotheken zugreifen, musst du sie vorher in dein Programm importieren. Danach kannst du auf die Funktionen des importierten Moduls zugreifen."
   ]
  },
  {
   "cell_type": "code",
   "execution_count": null,
   "metadata": {
    "scrolled": true
   },
   "outputs": [],
   "source": [
    "# Importe schreibst du überlicherweise am Anfang deines Programms auf.\n",
    "import time\n",
    "print(\"Heute:\", time.asctime())\n",
    "\n",
    "# Durch den Schlüsselbegriff 'as' kannst du dem  \n",
    "# Import einen eigenen Namen geben.\n",
    "import os.path as p\n",
    "import os\n",
    "\n",
    "# Gibt den aktuellen Pfad aus.\n",
    "p.abspath(os.getcwd())\n",
    "\n",
    "# Wenn du nur etwas Bestimmtes aus einer Datei \n",
    "# impotieren möchtest, kannst du das wie folgt tun:\n",
    "from datetime import date\n",
    "\n",
    "# Gibt den Wochentag (als Integer) eines Datums zurück.\n",
    "date(2021, 11, 2).weekday()\n",
    "\n",
    "# Du kannst auch deine eigenen Dateien in dein Programm importieren.\n",
    "# Wenn du eine Datei von einem Ordner in deinem aktuellen Verzeichnis\n",
    "# importieren möchtest, gibst du den relativen Pfad durch Punkte getrennt an:\n",
    "from resources.code.help_functions import sagHallo\n",
    "\n",
    "sagHallo()"
   ]
  },
  {
   "cell_type": "markdown",
   "metadata": {},
   "source": [
    "## 9. Fehlerbehandlung\n",
    "\n",
    "Um zu verhindern, dass dein Programm bei einem Fehler während der Ausführung abstürzt, muss du festlegen, was in solch einem Fall passiert."
   ]
  },
  {
   "cell_type": "code",
   "execution_count": 18,
   "metadata": {
    "scrolled": true
   },
   "outputs": [
    {
     "name": "stdout",
     "output_type": "stream",
     "text": [
      "Beginn der Ausführung des try-Blocks...\n",
      "Ups! Hier ist etwas schief gelaufen.\n",
      "Der finally-Block wird immer ausgeführt.\n",
      "ergebnis = 42\n"
     ]
    }
   ],
   "source": [
    "# Führe dieses Feld aus und ändere anschließend den Wert für 'y' und \n",
    "# beobachte, was bei der Ausführung passiert.\n",
    "x = 1\n",
    "y = 0\n",
    "ergebnis = 42\n",
    "\n",
    "\n",
    "try:\n",
    "    # Dieser Block wird zunächst ausgeführt.\n",
    "    print(\"Beginn der Ausführung des try-Blocks...\")\n",
    "    ergebnis = x / y\n",
    "except:\n",
    "    # Wenn ein Fehler im try-Block auftritt, \n",
    "    # wird dieser Block ausgeführt.\n",
    "    print(\"Ups! Hier ist etwas schief gelaufen.\")\n",
    "finally:\n",
    "    # Dieser Block ist optional.\n",
    "    # Er wird unabhängig davon ausgeführt, ob ein \n",
    "    # Fehler auftritt oder nicht.\n",
    "    print(\"Der finally-Block wird immer ausgeführt.\")\n",
    "    \n",
    "print(f\"ergebnis = {ergebnis}\")"
   ]
  },
  {
   "cell_type": "markdown",
   "metadata": {},
   "source": [
    "## 10. Mini-Aufgaben\n",
    "\n",
    "\n",
    "### Zahlen sortieren\n",
    "\n",
    "<img style=\"float: left;\" src=\"resources/img/laptop_icon.png\" width=50 height=50 /> <br><br>\n",
    "\n",
    "Schreibe eine Funktion, die eine beliebige Liste von Zahlen aufsteigend sortiert und die sortierte Liste zurückgibt, z.B. soll folgendes Ergebnis für die unsortierte List [3, -5, 1] zurückgegeben werden: [-5, 1, 3].\n"
   ]
  },
  {
   "cell_type": "code",
   "execution_count": null,
   "metadata": {
    "scrolled": true
   },
   "outputs": [],
   "source": [
    "unsortierte_liste = [-2, 45, -102, 231, 89, -73, 42, 0, 99, 123, -11]\n",
    "\n",
    "# Füge deinen Code hier ein."
   ]
  },
  {
   "cell_type": "markdown",
   "metadata": {},
   "source": [
    "### Primzahlen\n",
    "\n",
    "<img style=\"float: left;\" src=\"resources/img/laptop_icon.png\" width=50 height=50 /> <br><br>\n",
    "\n",
    "Schreibe eine Funktion, die als Parameter eine natürliche Zahl <i>n</i> übergeben bekommt und alle Primzahlen bis <i>n</i> als Liste ausgibt, z.B. soll für die Zahl 10 folgende Liste zurückgegeben werden: [2, 3, 5, 7].\n"
   ]
  },
  {
   "cell_type": "code",
   "execution_count": null,
   "metadata": {
    "scrolled": true
   },
   "outputs": [],
   "source": [
    "# Füge deinen Code hier ein."
   ]
  },
  {
   "cell_type": "markdown",
   "metadata": {},
   "source": [
    "### Größter gemeinsamer Teiler\n",
    "\n",
    "<img style=\"float: left;\" src=\"resources/img/laptop_icon.png\" width=50 height=50 /> <br><br>\n",
    "\n",
    "Schreibe eine Funktion, die den größten gemeinsamen Teiler zweier natürlicher Zahlen ausgibt, z.B. der größte gemeinsame Teiler der Zahl 30 und 20 ist 10."
   ]
  },
  {
   "cell_type": "code",
   "execution_count": null,
   "metadata": {
    "scrolled": true
   },
   "outputs": [],
   "source": [
    "# Füge deinen Code hier ein."
   ]
  },
  {
   "cell_type": "markdown",
   "metadata": {},
   "source": [
    "### Primfaktorzerlegung\n",
    "\n",
    "<img style=\"float: left;\" src=\"resources/img/laptop_icon.png\" width=50 height=50 /> <br><br>\n",
    "\n",
    "Schreibe eine Funktion, die eine natürliche Zahl in ihre Primfaktoren zerlegt, z.B. 30 = 5 $\\cdot$ 6 = 5 $\\cdot$ 2 $\\cdot$ 3, also sind die Primfaktoren der Zahl 30: 2, 3 und 5."
   ]
  },
  {
   "cell_type": "code",
   "execution_count": null,
   "metadata": {
    "scrolled": true
   },
   "outputs": [],
   "source": [
    "# Füge deinen Code hier ein."
   ]
  },
  {
   "cell_type": "markdown",
   "metadata": {},
   "source": [
    "### Permutationen einer Zahlenliste\n",
    "\n",
    "<img style=\"float: left;\" src=\"resources/img/laptop_icon.png\" width=50 height=50 /> <br><br>\n",
    "\n",
    "Schreibe eine Funktion, die alle Permutation einer Zahlenliste zurückgibt. Alle Permutationen der Liste \"1,2,3\" sind: <br>\"1,2,3\", \"1,3,2\", \"2,1,3\", \"2,3,1\", \"3,1,2\", \"3,2,1\"."
   ]
  },
  {
   "cell_type": "code",
   "execution_count": null,
   "metadata": {
    "scrolled": true
   },
   "outputs": [],
   "source": [
    "zahlen = [0, 1, 2, 3, 4, 5]\n",
    "\n",
    "# Füge deinen Code hier ein."
   ]
  },
  {
   "cell_type": "markdown",
   "metadata": {},
   "source": [
    "### Binäres Palindrom\n",
    "\n",
    "<img style=\"float: left;\" src=\"resources/img/laptop_icon.png\" width=50 height=50 /> <br><br> \n",
    "\n",
    "Schreibe eine Funktion, die eine Zahl in ihre binäre Darstellung umwandelt und anschließend prüft, ob diese Binärzahl ein Palindrom (also vorwärts und rückwärts gelesen das gleiche) ist, z.B. lautet die Binärdarstellung der Zahl 5 101$_2$ und somit ist $101_2$ ein Palindrom, weil es vorwärts und rückwärts gelesen das Gleiche ergibt. Die Binärdarstellung der Zahl 6 lautet $110_2$ und ist somit kein Palindrom. "
   ]
  },
  {
   "cell_type": "code",
   "execution_count": null,
   "metadata": {
    "scrolled": true
   },
   "outputs": [],
   "source": [
    "# Füge deinen Code hier ein."
   ]
  },
  {
   "cell_type": "markdown",
   "metadata": {},
   "source": [
    "### Nim-Spiel implementieren\n",
    "\n",
    "<img style=\"float: left;\" src=\"resources/img/laptop_icon.png\" width=50 height=50 /> <br><br> \n",
    "\n",
    "Bearbeite diese Aufgaben nur, wenn du bereits sehr fit in Python bist! Implementiere die Standardvariante des Nim-Spiels (siehe https://de.wikipedia.org/wiki/Nim-Spiel) für zwei Spieler:innen (ohne eine graphische Benutzeroberfläche). Stelle die aktuelle Anzahl der Streichhölzer mit \"|\" in der Ausgaben dar und frage bei jedem Zug den aktuellen Spieler ab, wie viele Streichhölzer er wegnehmen möchte. Verarbeite seine Ausgaben entsprechend. Recherchiere gegebenenfalls nach geeigneten Funktionen (und Bibliotheken)."
   ]
  },
  {
   "cell_type": "code",
   "execution_count": null,
   "metadata": {},
   "outputs": [],
   "source": [
    "# Füge deinen Code hier ein."
   ]
  },
  {
   "cell_type": "markdown",
   "metadata": {},
   "source": [
    "## 11. Abbildungsverzeichnis\n",
    "\n",
    "\n",
    "Abbildung 1: https://de.statista.com/statistik/daten/studie/678732/umfrage/beliebteste-programmiersprachen-weltweit-laut-pypl-index/"
   ]
  }
 ],
 "metadata": {
  "@webio": {
   "lastCommId": null,
   "lastKernelId": null
  },
  "interpreter": {
   "hash": "2d260b012bbf33bcb2887d0961c178b7e1cdbf98f02eb539d597fc41b3ad5997"
  },
  "kernelspec": {
   "display_name": "Python 3",
   "language": "python",
   "name": "python3"
  },
  "language_info": {
   "codemirror_mode": {
    "name": "ipython",
    "version": 3
   },
   "file_extension": ".py",
   "mimetype": "text/x-python",
   "name": "python",
   "nbconvert_exporter": "python",
   "pygments_lexer": "ipython3",
   "version": "3.6.12"
  }
 },
 "nbformat": 4,
 "nbformat_minor": 2
}
